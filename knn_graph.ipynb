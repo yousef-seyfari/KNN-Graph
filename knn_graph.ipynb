{
 "cells": [
  {
   "cell_type": "markdown",
   "id": "44212e7c",
   "metadata": {},
   "source": [
    "Topics:\n",
    "1. Generate weight matrix, W, for a given data using KNN algorithm\n",
    "2. Obtain adjacency matrix, A, from W\n",
    "3. Obtain symmetric adjacency matrix, A_mut, using mutual KNN algorithm\n",
    "4. Plotting graphs"
   ]
  },
  {
   "cell_type": "code",
   "execution_count": 1,
   "id": "12616d79",
   "metadata": {},
   "outputs": [],
   "source": [
    "# import packages\n",
    "import numpy as np\n",
    "from sklearn.neighbors import kneighbors_graph\n",
    "import matplotlib.pyplot as plt\n",
    "import networkx as nx"
   ]
  },
  {
   "cell_type": "code",
   "execution_count": 2,
   "id": "54e63eb9",
   "metadata": {},
   "outputs": [],
   "source": [
    "#define functions\n",
    "\n",
    "#a function to convert weight matrix to adjacency matrix thats entries are 0 or 1.\n",
    "def get_adj_matrix(W):\n",
    "    A = np.zeros(np.shape(W))\n",
    "    for i in range(np.shape(W)[0]):\n",
    "        for j in range(np.shape(W)[1]):\n",
    "            if W[i, j] != 0:\n",
    "                A[i, j] = 1\n",
    "    return A\n",
    "\n",
    "\n",
    "# a function to plot graph from adjacency matrix\n",
    "def show_graph_with_labels(adjacency_matrix, mylabels):\n",
    "    rows, cols = np.where(adjacency_matrix == 1)\n",
    "    edges = zip(rows.tolist(), cols.tolist())\n",
    "    gr = nx.Graph()\n",
    "    gr.add_edges_from(edges)\n",
    "    nx.draw(gr, node_size=500, labels=mylabels, with_labels=True)\n",
    "    plt.show()"
   ]
  },
  {
   "cell_type": "markdown",
   "id": "4266e7c8",
   "metadata": {},
   "source": [
    "#### 1. Generate weight matrix, W, from a given data using KNN algorithm \n",
    "Suppose there is a given data X, we want to generate KNN graph for this data using Euclidean measure. The number of neighbors is assumed 3, that means for each node, there will be two other nodes in relation, i.e., each row in the weight or adjacency matrix there are two non-zero values."
   ]
  },
  {
   "cell_type": "code",
   "execution_count": 3,
   "id": "2021d0ce",
   "metadata": {},
   "outputs": [
    {
     "name": "stdout",
     "output_type": "stream",
     "text": [
      "W matrix from kNN:\n",
      " [[0. 1. 7. 0. 0.]\n",
      " [1. 0. 6. 0. 0.]\n",
      " [0. 0. 0. 1. 2.]\n",
      " [0. 0. 1. 0. 1.]\n",
      " [0. 0. 2. 1. 0.]]\n",
      "A matrix from kNN:\n",
      " [[0. 1. 1. 0. 0.]\n",
      " [1. 0. 1. 0. 0.]\n",
      " [0. 0. 0. 1. 1.]\n",
      " [0. 0. 1. 0. 1.]\n",
      " [0. 0. 1. 1. 0.]]\n"
     ]
    }
   ],
   "source": [
    "X = [[0], [1], [7], [8], [9]]\n",
    "X = np.array(X)\n",
    "\n",
    "mat = kneighbors_graph(X, 3, mode='distance', include_self=True)\n",
    "W=mat.todense()\n",
    "print(f'W matrix from kNN:\\n {W}')\n",
    "A = get_adj_matrix(W)\n",
    "print(f'A matrix from kNN:\\n {A}')"
   ]
  },
  {
   "cell_type": "markdown",
   "id": "6bf9f424",
   "metadata": {},
   "source": [
    "#### 2. Obtain adjacency matrix, A, from W\n",
    "For generating adjacency matrix from weight matrix I have used a function called *get_adj_matrix(.)*"
   ]
  },
  {
   "cell_type": "code",
   "execution_count": 4,
   "id": "c35d5be8",
   "metadata": {},
   "outputs": [
    {
     "data": {
      "text/plain": [
       "array([[0., 1., 1., 0., 0.],\n",
       "       [1., 0., 1., 0., 0.],\n",
       "       [0., 0., 0., 1., 1.],\n",
       "       [0., 0., 1., 0., 1.],\n",
       "       [0., 0., 1., 1., 0.]])"
      ]
     },
     "execution_count": 4,
     "metadata": {},
     "output_type": "execute_result"
    }
   ],
   "source": [
    "A = get_adj_matrix(W)\n",
    "A"
   ]
  },
  {
   "cell_type": "markdown",
   "id": "656fe75b",
   "metadata": {},
   "source": [
    "#### 3. Obtain symmetric adjacency matrix, A_mut, using mutual kNN algorithm\n",
    "In orther to obtain symmetric adjacency matrix, A_mut, it is enough to generate $A^{'}$ and use the following equation:<br>\n",
    "$\\hat{A} = min(A, A^{'})$"
   ]
  },
  {
   "cell_type": "code",
   "execution_count": 5,
   "id": "386061c9",
   "metadata": {},
   "outputs": [
    {
     "data": {
      "text/plain": [
       "array([[0., 1., 0., 0., 0.],\n",
       "       [1., 0., 0., 0., 0.],\n",
       "       [0., 0., 0., 1., 1.],\n",
       "       [0., 0., 1., 0., 1.],\n",
       "       [0., 0., 1., 1., 0.]])"
      ]
     },
     "execution_count": 5,
     "metadata": {},
     "output_type": "execute_result"
    }
   ],
   "source": [
    "AT = A.transpose()\n",
    "A_mut = np.minimum(A, AT)\n",
    "A_mut"
   ]
  },
  {
   "cell_type": "markdown",
   "id": "43f6f7d3",
   "metadata": {},
   "source": [
    "Now we see that A_mut is symmetric."
   ]
  },
  {
   "cell_type": "markdown",
   "id": "27c95f66",
   "metadata": {},
   "source": [
    "#### 4. Plotting graphs:\n",
    "##### 4.1 KNN graph before symmetrizing:"
   ]
  },
  {
   "cell_type": "code",
   "execution_count": 6,
   "id": "924eca8c",
   "metadata": {},
   "outputs": [
    {
     "data": {
      "image/png": "[encoded data removed]",
      "text/plain": [
       "<Figure size 432x288 with 1 Axes>"
      ]
     },
     "metadata": {},
     "output_type": "display_data"
    }
   ],
   "source": [
    "show_graph_with_labels(A, {0:'a', 1:'b', 2:'c', 3:'d', 4:'e'})"
   ]
  },
  {
   "cell_type": "markdown",
   "id": "dd884f81",
   "metadata": {},
   "source": [
    "##### 4.2 mutKNN graph after symmetrizing"
   ]
  },
  {
   "cell_type": "code",
   "execution_count": 7,
   "id": "fe0b2198",
   "metadata": {},
   "outputs": [
    {
     "data": {
      "image/png": "[encoded data removed]",
      "text/plain": [
       "<Figure size 432x288 with 1 Axes>"
      ]
     },
     "metadata": {},
     "output_type": "display_data"
    }
   ],
   "source": [
    "show_graph_with_labels(A_mut, {0:'a', 1:'b', 2:'c', 3:'d', 4:'e'})"
   ]
  }
 ],
 "metadata": {
  "kernelspec": {
   "display_name": "Python 3 (ipykernel)",
   "language": "python",
   "name": "python3"
  },
  "language_info": {
   "codemirror_mode": {
    "name": "ipython",
    "version": 3
   },
   "file_extension": ".py",
   "mimetype": "text/x-python",
   "name": "python",
   "nbconvert_exporter": "python",
   "pygments_lexer": "ipython3",
   "version": "3.9.7"
  }
 },
 "nbformat": 4,
 "nbformat_minor": 5
}
